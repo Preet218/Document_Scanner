{
 "cells": [
  {
   "cell_type": "markdown",
   "metadata": {},
   "source": [
    "# Document Scanner "
   ]
  },
  {
   "cell_type": "code",
   "execution_count": 48,
   "metadata": {},
   "outputs": [],
   "source": [
    "import cv2\n",
    "import numpy as np"
   ]
  },
  {
   "cell_type": "code",
   "execution_count": 49,
   "metadata": {},
   "outputs": [],
   "source": [
    "# parameters\n",
    "width = 840\n",
    "height = 960\n",
    "kernel = np.ones((5,5))"
   ]
  },
  {
   "cell_type": "code",
   "execution_count": 50,
   "metadata": {},
   "outputs": [],
   "source": [
    "def preProcessing(img):\n",
    "    imgGray = cv2.cvtColor(img, cv2.COLOR_BGR2GRAY)\n",
    "    imgBlur = cv2.GaussianBlur(imgGray, (5,5),1)\n",
    "    imgCanny = cv2.Canny(imgBlur,100,100)\n",
    "    imgDilate = cv2.dilate(imgCanny,kernel,iterations=2)\n",
    "    imgThres = cv2.erode(imgDilate, kernel, iterations=1)\n",
    "    return imgThres"
   ]
  },
  {
   "cell_type": "code",
   "execution_count": 51,
   "metadata": {},
   "outputs": [],
   "source": [
    "def getContour(img):\n",
    "    biggest = np.array([])\n",
    "    maxArea = 0\n",
    "    \n",
    "    contours, hierarchy = cv2.findContours(img, cv2.RETR_EXTERNAL, cv2.CHAIN_APPROX_NONE)\n",
    "    for cnt in contours:\n",
    "        area = cv2.contourArea(cnt)\n",
    "        if area > 20000:\n",
    "            # cv2.drawContours(imgResult, cnt, -1, (255,0,0), 5)\n",
    "            peri = cv2.arcLength(cnt, True)\n",
    "            approx = cv2.approxPolyDP(cnt, 0.02*peri, True)\n",
    "            if area > maxArea and len(approx) == 4:\n",
    "                maxArea = area\n",
    "                biggest = approx\n",
    "    return biggest"
   ]
  },
  {
   "cell_type": "code",
   "execution_count": 52,
   "metadata": {},
   "outputs": [],
   "source": [
    "def getWarp(img,biggest):\n",
    "    biggest = reorder(biggest)\n",
    "    pts1 = np.float32(biggest)\n",
    "    pts2 = np.float32([[0,0], [width,0], [0,height], [width,height]])\n",
    "    try:\n",
    "        matrix = cv2.getPerspectiveTransform(pts1, pts2)\n",
    "        imgOutput = cv2.warpPerspective(img, matrix, (width,height))\n",
    "\n",
    "        return imgOutput\n",
    "    except:\n",
    "        pass"
   ]
  },
  {
   "cell_type": "code",
   "execution_count": 53,
   "metadata": {},
   "outputs": [],
   "source": [
    "def reorder(myPoints):\n",
    "    try:\n",
    "        myPoints = myPoints.reshape((4,2))\n",
    "        myPointsNew = np.zeros((4,1,2),np.int32)\n",
    "        add = myPoints.sum(1)\n",
    "        #print(\"add\", add)\n",
    "        myPointsNew[0] = myPoints[np.argmin(add)]\n",
    "        myPointsNew[3] = myPoints[np.argmax(add)]\n",
    "        diff = np.diff(myPoints,axis=1)\n",
    "        myPointsNew[1] = myPoints[np.argmin(diff)]\n",
    "        myPointsNew[2] = myPoints[np.argmax(diff)]\n",
    "        #print(myPointsNew)\n",
    "        return myPointsNew\n",
    "    except:\n",
    "        pass"
   ]
  },
  {
   "cell_type": "code",
   "execution_count": 54,
   "metadata": {},
   "outputs": [],
   "source": [
    "video = cv2.VideoCapture(0)\n",
    "address = \"http://172.20.10.4:8080/video\"\n",
    "video.open(address)\n",
    "video.set(3,width)\n",
    "video.set(4,height)\n",
    "video.set(10,150)\n",
    "\n",
    "while True:\n",
    "    check, frame = video.read()\n",
    "    frame = cv2.resize(frame, (width,height))\n",
    "    imgResult = frame.copy()\n",
    "    \n",
    "    imgThres = preProcessing(frame)\n",
    "    biggest = getContour(imgThres)\n",
    "    imgWarpped = getWarp(frame,biggest)\n",
    "    try:\n",
    "        cv2.imshow(\"Result\", imgWarpped)\n",
    "    except:\n",
    "        cv2.imshow(\"Result\", imgResult)\n",
    "    if cv2.waitKey(1) & 0xFF == ord('q'):\n",
    "        break\n",
    "        \n",
    "cv2.destroyAllWindows()"
   ]
  },
  {
   "cell_type": "code",
   "execution_count": null,
   "metadata": {},
   "outputs": [],
   "source": []
  },
  {
   "cell_type": "code",
   "execution_count": null,
   "metadata": {},
   "outputs": [],
   "source": []
  }
 ],
 "metadata": {
  "kernelspec": {
   "display_name": "Python 3",
   "language": "python",
   "name": "python3"
  },
  "language_info": {
   "codemirror_mode": {
    "name": "ipython",
    "version": 3
   },
   "file_extension": ".py",
   "mimetype": "text/x-python",
   "name": "python",
   "nbconvert_exporter": "python",
   "pygments_lexer": "ipython3",
   "version": "3.8.1"
  }
 },
 "nbformat": 4,
 "nbformat_minor": 4
}
